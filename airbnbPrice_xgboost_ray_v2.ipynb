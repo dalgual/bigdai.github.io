{
  "cells": [
    {
      "cell_type": "markdown",
      "metadata": {
        "id": "view-in-github",
        "colab_type": "text"
      },
      "source": [
        "<a href=\"https://colab.research.google.com/github/dalgual/bigdai.github.io/blob/main/airbnbPrice_xgboost_ray_v2.ipynb\" target=\"_parent\"><img src=\"https://colab.research.google.com/assets/colab-badge.svg\" alt=\"Open In Colab\"/></a>"
      ]
    },
    {
      "cell_type": "code",
      "execution_count": null,
      "metadata": {
        "id": "HrUG1ksRAgYq"
      },
      "outputs": [],
      "source": [
        "import numpy as np\n",
        "from time import time\n",
        "from decimal import Decimal\n",
        "import pyspark.pandas as ps\n",
        "    \n",
        "# XGBoost on ray is needed to run this example.\n",
        "# Please refer to https://docs.ray.io/en/latest/xgboost-ray.html to install it.\n",
        "import ray\n",
        "from xgboost_ray import RayXGBClassifier, RayDMatrix, train, RayParams, predict\n",
        "import raydp\n",
        "from raydp.utils import random_split\n",
        "from raydp.spark import RayMLDataset\n",
        "#from ray import tune\n",
        "\n",
        "# data_process.py at the same directory\n",
        "#from data_process import nyc_taxi_preprocess, NYC_TRAIN_CSV\n",
        "import dask.dataframe as dd\n",
        "from dask.diagnostics import ProgressBar"
      ]
    },
    {
      "cell_type": "code",
      "execution_count": null,
      "metadata": {
        "id": "QP43ODshAgYs"
      },
      "outputs": [],
      "source": [
        "# Import Spark SQL and Spark ML libraries\n",
        "import pyspark\n",
        "\n",
        "from pyspark.sql.types import *\n",
        "from pyspark.sql.functions import *\n",
        "\n",
        "from pyspark.ml import Pipeline\n",
        "from pyspark.ml.feature import VectorAssembler,StringIndexer, VectorIndexer, MinMaxScaler\n",
        "from pyspark.ml.tuning import ParamGridBuilder, CrossValidator, TrainValidationSplit\n",
        "from pyspark.ml.evaluation import RegressionEvaluator, BinaryClassificationEvaluator\n",
        "from pyspark.ml.classification import LogisticRegression,DecisionTreeClassifier\n",
        "\n",
        "from pyspark.context import SparkContext\n",
        "from pyspark.sql.session import SparkSession"
      ]
    },
    {
      "cell_type": "code",
      "execution_count": null,
      "metadata": {
        "id": "yynpZHa_AgYt"
      },
      "outputs": [],
      "source": [
        "def with_benchmark(phrase, action):\n",
        "    start = time()\n",
        "    result = action()\n",
        "    end = time()\n",
        "    print('{} takes {} seconds'.format(phrase, (end - start))) #round(end - start, 2)))\n",
        "    return result    "
      ]
    },
    {
      "cell_type": "code",
      "execution_count": null,
      "metadata": {
        "id": "9gTPipWvAgYu"
      },
      "outputs": [],
      "source": [
        "# Auxiliar functions\n",
        "def equivalent_type(f):\n",
        "    if f == 'datetime64[ns]': return TimestampType()\n",
        "    elif f == 'int64': return LongType()\n",
        "    elif f == 'int32': return IntegerType()\n",
        "    elif f == 'float64': return FloatType()\n",
        "    else: return StringType()\n",
        "\n"
      ]
    },
    {
      "cell_type": "code",
      "execution_count": null,
      "metadata": {
        "id": "1u0iGW6DAgYu"
      },
      "outputs": [],
      "source": [
        "def define_structure(string, format_type):\n",
        "    try: typo = equivalent_type(format_type)\n",
        "    except: typo = StringType()\n",
        "    return StructField(string, typo)\n",
        "\n"
      ]
    },
    {
      "cell_type": "code",
      "execution_count": null,
      "metadata": {
        "id": "_TeOu0SZAgYv"
      },
      "outputs": [],
      "source": [
        "# Given pandas dataframe, it will return a spark's dataframe.\n",
        "# Performance: 100MB/10 partitions\n",
        "def pandas_to_spark(pandas_df, num_partition):\n",
        "    columns = list(pandas_df.columns)\n",
        "    types = list(pandas_df.dtypes)\n",
        "    struct_list = []\n",
        "    for column, typo in zip(columns, types): \n",
        "      struct_list.append(define_structure(column, typo))\n",
        "    p_schema = StructType(struct_list)\n",
        "    return spark.createDataFrame(pandas_df, p_schema).repartition(num_partition)\n",
        "    #return sqlContext.createDataFrame(pandas_df, p_schema)"
      ]
    },
    {
      "cell_type": "code",
      "execution_count": null,
      "metadata": {
        "id": "0r664MShAgYv",
        "outputId": "411285b8-c610-4982-9bf5-5513795bd673"
      },
      "outputs": [
        {
          "name": "stderr",
          "output_type": "stream",
          "text": [
            "2022-04-08 00:09:20,033\tINFO worker.py:861 -- Connecting to existing Ray cluster at address: 172.30.0.26:6379\n"
          ]
        },
        {
          "data": {
            "text/plain": [
              "{'node_ip_address': '172.30.0.26',\n",
              " 'raylet_ip_address': '172.30.0.26',\n",
              " 'redis_address': None,\n",
              " 'object_store_address': '/tmp/ray/session_2022-04-07_19-01-43_954995_4123/sockets/plasma_store',\n",
              " 'raylet_socket_name': '/tmp/ray/session_2022-04-07_19-01-43_954995_4123/sockets/raylet',\n",
              " 'webui_url': '127.0.0.1:8265',\n",
              " 'session_dir': '/tmp/ray/session_2022-04-07_19-01-43_954995_4123',\n",
              " 'metrics_export_port': 38615,\n",
              " 'gcs_address': '172.30.0.26:6379',\n",
              " 'address': '172.30.0.26:6379',\n",
              " 'node_id': '88951fc54095205b29f9c860414d6511bd041dac8fba944047078d03'}"
            ]
          },
          "execution_count": 58,
          "metadata": {},
          "output_type": "execute_result"
        }
      ],
      "source": [
        "# shutdown before connect to ray cluster\n",
        "# ray.shutdown()\n",
        "# ray.init(address='auto')\n",
        "\n",
        "# for the host/master node only\n",
        "# ray.init(num_cpus=2)\n",
        "\n",
        "# for the existing cluster\n",
        "ray.init(address='auto')\n"
      ]
    },
    {
      "cell_type": "code",
      "execution_count": null,
      "metadata": {
        "id": "cXOtMVYJAgYx"
      },
      "outputs": [],
      "source": [
        "# After ray.init, you can use the raydp api to get a spark session\n",
        "#g4dn.2xlarge, 1 GPU, 8 vCPUs, 32 GiB of memory, 225 NVMe SSD, up to 25 Gbps network performance\n",
        "app_name = \"Airbnb Rating with RayDP\"\n",
        "num_executors = 1 #3 #1  3 min_wokers, 5 min_wokers,\n",
        "cores_per_executor = 1 #4, 2, 1\n",
        "memory_per_executor = \"2GB\" #\"6GB\" # \"2GB\" \"1GB\" \"500M\""
      ]
    },
    {
      "cell_type": "code",
      "execution_count": null,
      "metadata": {
        "id": "xWrqUyr9AgYx",
        "outputId": "33cb8649-d63f-4082-e6bc-920c81f843fa"
      },
      "outputs": [
        {
          "name": "stdout",
          "output_type": "stream",
          "text": [
            "\u001b[2m\u001b[36m(RayDPSparkMaster pid=14228)\u001b[0m 2022-04-08 00:09:23,276 WARN NativeCodeLoader [Thread-2]: Unable to load native-hadoop library for your platform... using builtin-java classes where applicable\n",
            "\u001b[2m\u001b[36m(RayDPSparkMaster pid=14228)\u001b[0m 2022-04-08 00:09:23,330 INFO SecurityManager [Thread-2]: Changing view acls to: ubuntu\n",
            "\u001b[2m\u001b[36m(RayDPSparkMaster pid=14228)\u001b[0m 2022-04-08 00:09:23,330 INFO SecurityManager [Thread-2]: Changing modify acls to: ubuntu\n",
            "\u001b[2m\u001b[36m(RayDPSparkMaster pid=14228)\u001b[0m 2022-04-08 00:09:23,331 INFO SecurityManager [Thread-2]: Changing view acls groups to: \n",
            "\u001b[2m\u001b[36m(RayDPSparkMaster pid=14228)\u001b[0m 2022-04-08 00:09:23,331 INFO SecurityManager [Thread-2]: Changing modify acls groups to: \n",
            "\u001b[2m\u001b[36m(RayDPSparkMaster pid=14228)\u001b[0m 2022-04-08 00:09:23,332 INFO SecurityManager [Thread-2]: SecurityManager: authentication disabled; ui acls disabled; users  with view permissions: Set(ubuntu); groups with view permissions: Set(); users  with modify permissions: Set(ubuntu); groups with modify permissions: Set()\n",
            "\u001b[2m\u001b[36m(RayDPSparkMaster pid=14228)\u001b[0m 2022-04-08 00:09:23,615 INFO Utils [Thread-2]: Successfully started service 'RAY_RPC_ENV' on port 37041.\n",
            "\u001b[2m\u001b[36m(RayDPSparkMaster pid=14228)\u001b[0m 2022-04-08 00:09:23,859 INFO RayAppMaster$RayAppMasterEndpoint [dispatcher-event-loop-7]: Registering app Airbnb Rating with RayDP\n",
            "\u001b[2m\u001b[36m(RayDPSparkMaster pid=14228)\u001b[0m 2022-04-08 00:09:23,862 INFO RayAppMaster$RayAppMasterEndpoint [dispatcher-event-loop-7]: Registered app Airbnb Rating with RayDP with ID app-20220408000923-0000\n"
          ]
        }
      ],
      "source": [
        "spark = raydp.init_spark(app_name, num_executors, cores_per_executor, memory_per_executor)\n"
      ]
    },
    {
      "cell_type": "code",
      "execution_count": null,
      "metadata": {
        "id": "n2tbugsEAgYy"
      },
      "outputs": [],
      "source": [
        "start = time()\n",
        "    \n",
        "IS_S3 = False #True False \n",
        "file_name = 'airbnb_listings.csv' #'airbnb-listings.csv' 'airbnb_US.csv' #'airbnb_sample.csv' 'airbnb-listings.csv'\n",
        "if IS_S3:\n",
        "    #aws s3\n",
        "    file_location = \"s3://bigdai-pub/\" + file_name\n",
        "    phrase = \"S3 Data Read Time: \"\n",
        "    #file_location = \"s3://bigdai-pub/airbnb_US.csv\"\n",
        "    #file_s3 = \"s3://bigdai-pub/airbnb-listings.csv\"\n",
        "else:\n",
        "    phrase = \"Local Data Read Time: \"\n",
        "    # local at the same directory of this code\n",
        "    file_location = \"./\" + file_name"
      ]
    },
    {
      "cell_type": "code",
      "execution_count": null,
      "metadata": {
        "id": "SzNXhseZAgYz",
        "outputId": "5ae9e4b4-a762-4362-e4da-2c2e6d62e562"
      },
      "outputs": [
        {
          "name": "stderr",
          "output_type": "stream",
          "text": [
            "\u001b[2m\u001b[33m(raylet)\u001b[0m log4j:WARN No appenders could be found for logger (org.apache.htrace.core.Tracer).\n",
            "\u001b[2m\u001b[33m(raylet)\u001b[0m log4j:WARN Please initialize the log4j system properly.\n",
            "\u001b[2m\u001b[33m(raylet)\u001b[0m log4j:WARN See http://logging.apache.org/log4j/1.2/faq.html#noconfig for more info.\n"
          ]
        },
        {
          "name": "stdout",
          "output_type": "stream",
          "text": [
            "Local Data Read Time:  takes 17.040000200271606 seconds\n"
          ]
        }
      ],
      "source": [
        "import pandas as pd\n",
        "import pyspark.pandas as ps\n",
        "\n",
        "if IS_S3:\n",
        "    '''\n",
        "    data = ray.data.read_csv(file_location).option(\"header\", \"true\") \\\n",
        "        .option(\"inferSchema\", \"true\").option(\"strings_can_be_null\", \"true\") # (NYC_TRAIN_CSV)\n",
        "'''    \n",
        "    # [10] col_types: NULL (the default) to infer types from the data.\n",
        "    #data = ray.data.read_csv(file_location)\n",
        "    #data = ray.data.read_csv(file_location).option(arrow_csv_args: {\"strings_can_be_null\": True})\n",
        "    #data = ray.data.read_csv(file_location).option({\"strings_can_be_null\": True})\n",
        "    \n",
        "    f1 = file_location\n",
        "    #file_location = \"s3://bigdai-pub/splits\"\n",
        "    #f1=file_location+\"/airbnb_US_x00.csv\"\n",
        "    #f2=file_location+\"/airbnb_US_x01.csv\"\n",
        "    #f3=file_location+\"/airbnb_US_x02.csv\"\n",
        "    #pandasDF = pd.read_csv([f1, f2, f3], on_bad_lines='skip') #, na_filter=False) #, na_values=\"null\") #\n",
        "    # panda to read\n",
        "    pandasDF = pd.read_csv(f1, on_bad_lines='skip') #, na_filter=False) #, na_values=\"null\") #\n",
        "    csv=pandas_to_spark(pandasDF, 10) #spark.createDataFrame(pandasDF) \n",
        "    \n",
        "    # dask to read\n",
        "    '''ddf = dd.read_csv(f1, on_bad_lines='skip', dtype=dtypes)\n",
        "    #data = pandas_to_dask(ddf) \n",
        "    ddf.compute(scheduler='processes')'''\n",
        "\n",
        "    # Pyspark Read: Hadoop no class error\n",
        "    '''file_location = \"s3a://bigdai-pub/splits\"\n",
        "    f1=file_location+\"/airbnb_US_x00.csv\"\n",
        "    data = ps.read_csv(f1, on_bad_lines='skip')'''\n",
        "    \n",
        "    #     # Pyspark Read: Hadoop no class error\n",
        "    '''data = spark.read.format(\"csv\").option(\"header\", \"true\") \\\n",
        "        .option(\"inferSchema\", \"true\") \\\n",
        "        .load(file_location)'''\n",
        "else: # airbnb-listing.csv # comment if for airbnb_US.csv and airbnb_sample.csv\n",
        "    csv = spark.read.format(\"csv\").option(\"header\", \"true\") \\\n",
        "        .option(\"inferSchema\", \"true\") \\\n",
        "        .option(\"delimiter\", \";\") \\\n",
        "        .load(file_location)\n",
        "\n",
        "end = time()\n",
        "print('{} takes {} seconds'.format(phrase, (end - start))) #round(end - start, 2)))\n"
      ]
    },
    {
      "cell_type": "code",
      "execution_count": null,
      "metadata": {
        "id": "fMJyHYwpAgYz",
        "outputId": "2990b2c7-5e3a-4ff0-fa7b-f6026edc8780"
      },
      "outputs": [
        {
          "name": "stdout",
          "output_type": "stream",
          "text": [
            "root\n",
            " |-- id: string (nullable = true)\n",
            " |-- listing_url: string (nullable = true)\n",
            " |-- scrape_id: string (nullable = true)\n",
            " |-- last_scraped: string (nullable = true)\n",
            " |-- name: string (nullable = true)\n",
            " |-- summary: string (nullable = true)\n",
            " |-- space: string (nullable = true)\n",
            " |-- description: string (nullable = true)\n",
            " |-- experiences_offered: string (nullable = true)\n",
            " |-- neighborhood_overview: string (nullable = true)\n",
            " |-- notes: string (nullable = true)\n",
            " |-- transit: string (nullable = true)\n",
            " |-- access: string (nullable = true)\n",
            " |-- interaction: string (nullable = true)\n",
            " |-- house_rules: string (nullable = true)\n",
            " |-- thumbnail_url: string (nullable = true)\n",
            " |-- medium_url: string (nullable = true)\n",
            " |-- picture_url: string (nullable = true)\n",
            " |-- xl_picture_url: string (nullable = true)\n",
            " |-- host_id: string (nullable = true)\n",
            " |-- host_url: string (nullable = true)\n",
            " |-- host_name: string (nullable = true)\n",
            " |-- host_since: string (nullable = true)\n",
            " |-- host_location: string (nullable = true)\n",
            " |-- host_about: string (nullable = true)\n",
            " |-- host_response_time: string (nullable = true)\n",
            " |-- host_response_rate: string (nullable = true)\n",
            " |-- host_acceptance_rate: string (nullable = true)\n",
            " |-- host_thumbnail_url: string (nullable = true)\n",
            " |-- host_picture_url: string (nullable = true)\n",
            " |-- host_neighbourhood: string (nullable = true)\n",
            " |-- host_listings_count: string (nullable = true)\n",
            " |-- host_total_listings_count: string (nullable = true)\n",
            " |-- host_verifications: string (nullable = true)\n",
            " |-- street: string (nullable = true)\n",
            " |-- neighbourhood: string (nullable = true)\n",
            " |-- neighbourhood_cleansed: string (nullable = true)\n",
            " |-- neighbourhood_group_cleansed: string (nullable = true)\n",
            " |-- city: string (nullable = true)\n",
            " |-- state: string (nullable = true)\n",
            " |-- zipcode: string (nullable = true)\n",
            " |-- market: string (nullable = true)\n",
            " |-- smart_location: string (nullable = true)\n",
            " |-- country_code: string (nullable = true)\n",
            " |-- country: string (nullable = true)\n",
            " |-- latitude: string (nullable = true)\n",
            " |-- longitude: string (nullable = true)\n",
            " |-- property_type: string (nullable = true)\n",
            " |-- room_type: string (nullable = true)\n",
            " |-- accommodates: string (nullable = true)\n",
            " |-- bathrooms: string (nullable = true)\n",
            " |-- bedrooms: string (nullable = true)\n",
            " |-- beds: string (nullable = true)\n",
            " |-- bed_type: string (nullable = true)\n",
            " |-- amenities: string (nullable = true)\n",
            " |-- square_feet: string (nullable = true)\n",
            " |-- price: string (nullable = true)\n",
            " |-- weekly_price: string (nullable = true)\n",
            " |-- monthly_price: string (nullable = true)\n",
            " |-- security_deposit: string (nullable = true)\n",
            " |-- cleaning_fee: string (nullable = true)\n",
            " |-- guests_included: string (nullable = true)\n",
            " |-- extra_people: string (nullable = true)\n",
            " |-- minimum_nights: string (nullable = true)\n",
            " |-- maximum_nights: string (nullable = true)\n",
            " |-- calendar_updated: string (nullable = true)\n",
            " |-- has_availability: string (nullable = true)\n",
            " |-- availability_30: string (nullable = true)\n",
            " |-- availability_60: string (nullable = true)\n",
            " |-- availability_90: string (nullable = true)\n",
            " |-- availability_365: string (nullable = true)\n",
            " |-- calendar_last_scraped: string (nullable = true)\n",
            " |-- number_of_reviews: string (nullable = true)\n",
            " |-- first_review: string (nullable = true)\n",
            " |-- last_review: string (nullable = true)\n",
            " |-- review_scores_rating: string (nullable = true)\n",
            " |-- review_scores_accuracy: string (nullable = true)\n",
            " |-- review_scores_cleanliness: string (nullable = true)\n",
            " |-- review_scores_checkin: string (nullable = true)\n",
            " |-- review_scores_communication: string (nullable = true)\n",
            " |-- review_scores_location: string (nullable = true)\n",
            " |-- review_scores_value: string (nullable = true)\n",
            " |-- license: string (nullable = true)\n",
            " |-- jurisdiction_names: string (nullable = true)\n",
            " |-- cancellation_policy: string (nullable = true)\n",
            " |-- calculated_host_listings_count: string (nullable = true)\n",
            " |-- reviews_per_month: string (nullable = true)\n",
            " |-- geolocation: string (nullable = true)\n",
            " |-- features: string (nullable = true)\n",
            "\n"
          ]
        }
      ],
      "source": [
        "\n",
        "#data.show(10)\n",
        "csv.printSchema()"
      ]
    },
    {
      "cell_type": "code",
      "execution_count": null,
      "metadata": {
        "id": "L8-rYUVVAgY0"
      },
      "outputs": [],
      "source": [
        "# Set spark timezone for processing datetime\n",
        "spark.conf.set(\"spark.sql.session.timeZone\", \"UTC\")"
      ]
    },
    {
      "cell_type": "code",
      "execution_count": null,
      "metadata": {
        "id": "YXHhPAVEAgY0",
        "outputId": "a9822cf2-ca0a-45dc-e408-e011bd28b9aa"
      },
      "outputs": [
        {
          "data": {
            "text/plain": [
              "'df = data\\ndf.createOrReplaceTempView(temp_table_name)\\n'"
            ]
          },
          "execution_count": 65,
          "metadata": {},
          "output_type": "execute_result"
        }
      ],
      "source": [
        "# Create a view or table\n",
        "temp_table_name = \"airbnb_sample_csv\"\n",
        "'''df = data\n",
        "df.createOrReplaceTempView(temp_table_name)\n",
        "'''"
      ]
    },
    {
      "cell_type": "code",
      "execution_count": null,
      "metadata": {
        "id": "1AqoMPSeAgY0"
      },
      "outputs": [],
      "source": [
        "phrase= \"data engineering time: \"\n",
        "start = time()"
      ]
    },
    {
      "cell_type": "code",
      "execution_count": null,
      "metadata": {
        "id": "zIuIRpNnAgY0"
      },
      "outputs": [],
      "source": [
        "# jwoo\n",
        "#csv = spark.sql(\"SELECT * FROM airbnb_sample_csv\")\n",
        "#airbnb_sample.csv\n",
        "#csv=data\n",
        "# airibnb_US has entire columns while we need only the following column\n",
        "# csv = data.select(\"Review Scores Rating\", \"Host Listings Count\", \"Host Total Listings Count\", \"Calculated host listings count\", \"Security Deposit\", \"Cleaning Fee\" , \"Host Response Time\",\"Host Response Rate\",\"Host Acceptance Rate\",\"Property Type\",\"Room Type\",\"Price\",\"Weekly Price\",\"Monthly Price\",\"Maximum Nights\",\"Review Scores Accuracy\",\"Review Scores Cleanliness\",\"Review Scores Checkin\",\"Review Scores Communication\",\"Review Scores Location\",\"Review Scores Value\",\"Cancellation Policy\",\"Bedrooms\",\"Bathrooms\",\"Beds\",\"Extra People\",\"Minimum Nights\")\n",
        "\n",
        "#csv.show(5)"
      ]
    },
    {
      "cell_type": "code",
      "execution_count": null,
      "metadata": {
        "id": "TK7jwvPCAgY1",
        "outputId": "bd0959b1-ca49-4215-ce53-7fed54a4b63f"
      },
      "outputs": [
        {
          "name": "stdout",
          "output_type": "stream",
          "text": [
            "+--------+--------------------+--------------+------------+--------------------+--------------------+--------------------+--------------------+-------------------+---------------------+-----+--------------------+--------------------+-----------+--------------------+--------------------+--------------------+--------------------+--------------------+--------+--------------------+---------+----------+--------------------+--------------------+------------------+------------------+--------------------+--------------------+--------------------+------------------+-------------------+-------------------------+--------------------+--------------------+-------------+----------------------+----------------------------+-------------+--------------------+-------+----------+--------------------+------------+-------+------------------+------------------+-------------+---------------+------------+---------+--------+----+--------+--------------------+-----------+-----+------------+-------------+----------------+------------+---------------+------------+--------------+--------------+----------------+----------------+---------------+---------------+---------------+----------------+---------------------+-----------------+------------+-----------+--------------------+----------------------+-------------------------+---------------------+---------------------------+----------------------+-------------------+-------+------------------+-------------------+------------------------------+-----------------+--------------------+--------------------+\n",
            "|      id|         listing_url|     scrape_id|last_scraped|                name|             summary|               space|         description|experiences_offered|neighborhood_overview|notes|             transit|              access|interaction|         house_rules|       thumbnail_url|          medium_url|         picture_url|      xl_picture_url| host_id|            host_url|host_name|host_since|       host_location|          host_about|host_response_time|host_response_rate|host_acceptance_rate|  host_thumbnail_url|    host_picture_url|host_neighbourhood|host_listings_count|host_total_listings_count|  host_verifications|              street|neighbourhood|neighbourhood_cleansed|neighbourhood_group_cleansed|         city|               state|zipcode|    market|      smart_location|country_code|country|          latitude|         longitude|property_type|      room_type|accommodates|bathrooms|bedrooms|beds|bed_type|           amenities|square_feet|price|weekly_price|monthly_price|security_deposit|cleaning_fee|guests_included|extra_people|minimum_nights|maximum_nights|calendar_updated|has_availability|availability_30|availability_60|availability_90|availability_365|calendar_last_scraped|number_of_reviews|first_review|last_review|review_scores_rating|review_scores_accuracy|review_scores_cleanliness|review_scores_checkin|review_scores_communication|review_scores_location|review_scores_value|license|jurisdiction_names|cancellation_policy|calculated_host_listings_count|reviews_per_month|         geolocation|            features|\n",
            "+--------+--------------------+--------------+------------+--------------------+--------------------+--------------------+--------------------+-------------------+---------------------+-----+--------------------+--------------------+-----------+--------------------+--------------------+--------------------+--------------------+--------------------+--------+--------------------+---------+----------+--------------------+--------------------+------------------+------------------+--------------------+--------------------+--------------------+------------------+-------------------+-------------------------+--------------------+--------------------+-------------+----------------------+----------------------------+-------------+--------------------+-------+----------+--------------------+------------+-------+------------------+------------------+-------------+---------------+------------+---------+--------+----+--------+--------------------+-----------+-----+------------+-------------+----------------+------------+---------------+------------+--------------+--------------+----------------+----------------+---------------+---------------+---------------+----------------+---------------------+-----------------+------------+-----------+--------------------+----------------------+-------------------------+---------------------+---------------------------+----------------------+-------------------+-------+------------------+-------------------+------------------------------+-----------------+--------------------+--------------------+\n",
            "|17619081|https://www.airbn...|20170615002708|  2017-06-15|Nice smallroom i ...|Min bolig lægger ...|                null|Min bolig lægger ...|               none|                 null| null|The appartement i...|You have a small ...|       null|- ingen sko inden...|https://a0.muscac...|https://a0.muscac...|https://public.op...|https://a0.muscac...|39150424|https://www.airbn...| Birgitte|2015-07-21|Frederiksberg, Ca...|Trekking is in my...|    within an hour|               100|                null|https://a0.muscac...|https://a0.muscac...|     Frederiksberg|                  2|                        2|email,phone,faceb...|Frederiksberg, Fr...|Frederiksberg|         Frederiksberg|                        null|Frederiksberg|                null|   1855|Copenhagen|Frederiksberg, De...|          DK|Denmark| 55.67597935514723|12.532959778704614|    Apartment|   Private room|           1|        1|       1|   1|Real Bed|Wireless Internet...|       null|  298|        null|         null|            null|        null|              1|           0|             2|             5|           today|            null|              6|              6|              7|              91|           2017-06-15|                2|  2017-03-17| 2017-05-03|                   1|                    10|                       10|                   10|                         10|                     8|                 10|   null|              null|           flexible|                             2|             0.66|55.67597935514723...|Host Is Superhost...|\n",
            "|13356620|https://www.airbn...|20170615002708|  2017-06-15|Spacious 95 m2 3 ...|Spacious and sunn...|The apt. is locat...|Spacious and sunn...|               none|                 null| null|Getting here from...|        Entire flat.|       null|                null|                null|                null|https://public.op...|                null|75748444|https://www.airbn...|  Torsten|2016-06-04|Frederiksberg, Ca...|I live with my gi...|              null|              null|                null|https://a0.muscac...|https://a0.muscac...|     Frederiksberg|                  1|                        1|email,phone,linke...|Frederiksberg, Fr...|Frederiksberg|         Frederiksberg|                        null|Frederiksberg|                null|   1855|      null|Frederiksberg, De...|          DK|Denmark|  55.6759094982106|12.534325864665762|    Apartment|Entire home/apt|           3|        1|       2|   3|Real Bed|TV,Wireless Inter...|       null| null|        null|         null|             993|         364|              2|         132|             2|            28|    7 months ago|            null|              0|              0|              0|               0|           2017-06-15|                5|  2016-06-15| 2016-09-11|                   1|                    10|                       10|                   10|                         10|                    10|                  9|   null|              null|             strict|                             1|             0.41|55.6759094982106,...|Host Has Profile ...|\n",
            "|18993602|https://www.airbn...|20170615002708|  2017-06-15|Bright and lovely...|Lovely newly reno...|                null|Lovely newly reno...|               none|                 null| null|                null|                null|       null|                null|https://a0.muscac...|https://a0.muscac...|https://public.op...|https://a0.muscac...|11008595|https://www.airbn...|   Amalie|2014-01-04|Copenhagen, Capit...|                null|    within an hour|               100|                null|https://a0.muscac...|https://a0.muscac...|        Teglholmen|                  2|                        2|email,phone,revie...|Frederiksberg, Ca...|         null|         Frederiksberg|                        null|Frederiksberg|Capital Region of...|   null|Copenhagen|Frederiksberg, De...|          DK|Denmark|55.691447262778574| 12.53283111135349|    Apartment|Entire home/apt|           2|        1|       1|   1|Real Bed|TV,Internet,Wirel...|       null|  649|        null|         null|            null|         100|              1|           0|             3|          1125|      4 days ago|            null|              9|             19|             19|              36|           2017-06-15|                0|        null|       null|                   0|                  null|                     null|                 null|                       null|                  null|               null|   null|              null|           moderate|                             2|             null|55.69144726277857...|Host Has Profile ...|\n",
            "| 4313438|https://www.airbn...|20170615002708|  2017-06-15|CHAMERENDE FAMILI...|Velkommen til vor...|                null|Velkommen til vor...|               none|                 null| null|                null|                null|       null|                null|                null|                null|https://public.op...|                null| 9273916|https://www.airbn...|    Mette|2013-10-07|Frederiksberg, Ca...|                null|              null|              null|                null|https://a0.muscac...|https://a0.muscac...|     Frederiksberg|                  1|                        1|email,phone,faceb...|Frederiksberg, Fr...|Frederiksberg|         Frederiksberg|                        null|Frederiksberg|                null|   2000|Copenhagen|Frederiksberg, De...|          DK|Denmark| 55.68292450375927|12.536564981736335|    Apartment|Entire home/apt|           4|        1|       2|   3|Real Bed|TV,Internet,Kitch...|       null|  656|        null|         null|            null|        null|              1|           0|             5|          1125|   17 months ago|            null|              0|              0|              0|               0|           2017-06-15|                0|        null|       null|                   0|                  null|                     null|                 null|                       null|                  null|               null|   null|              null|           flexible|                             1|             null|55.68292450375927...|Host Has Profile ...|\n",
            "| 9029859|https://www.airbn...|20170615002708|  2017-06-15|Room in Frederiks...|Welcome to CPH ! ...|                null|Welcome to CPH ! ...|               none|                 null| null|                null|                null|       null|                null|https://a0.muscac...|https://a0.muscac...|https://public.op...|https://a0.muscac...|45996316|https://www.airbn...|    Hasse|2015-10-07|Copenhagen, Capit...|                null|              null|              null|                null|https://a0.muscac...|https://a0.muscac...|     Frederiksberg|                  1|                        1|email,phone,revie...|Frederiksberg, Fr...|Frederiksberg|         Frederiksberg|                        null|Frederiksberg|                null|   1960|Copenhagen|Frederiksberg, De...|          DK|Denmark| 55.68396572265812| 12.55302948723742|    Apartment|   Private room|           2|        1|       1|   1|Real Bed|Wireless Internet...|       null|  232|        null|         null|            null|        null|              1|           0|             3|          1125|   15 months ago|            null|              0|              0|              0|               0|           2017-06-15|                3|  2015-10-25| 2016-03-30|                   1|                    10|                        8|                   10|                         10|                    10|                  9|   null|              null|           flexible|                             1|             0.15|55.68396572265812...|Host Has Profile ...|\n",
            "+--------+--------------------+--------------+------------+--------------------+--------------------+--------------------+--------------------+-------------------+---------------------+-----+--------------------+--------------------+-----------+--------------------+--------------------+--------------------+--------------------+--------------------+--------+--------------------+---------+----------+--------------------+--------------------+------------------+------------------+--------------------+--------------------+--------------------+------------------+-------------------+-------------------------+--------------------+--------------------+-------------+----------------------+----------------------------+-------------+--------------------+-------+----------+--------------------+------------+-------+------------------+------------------+-------------+---------------+------------+---------+--------+----+--------+--------------------+-----------+-----+------------+-------------+----------------+------------+---------------+------------+--------------+--------------+----------------+----------------+---------------+---------------+---------------+----------------+---------------------+-----------------+------------+-----------+--------------------+----------------------+-------------------------+---------------------+---------------------------+----------------------+-------------------+-------+------------------+-------------------+------------------------------+-----------------+--------------------+--------------------+\n",
            "only showing top 5 rows\n",
            "\n"
          ]
        }
      ],
      "source": [
        "\n",
        "csv = csv.withColumn(\"review_scores_rating\", when(col(\"review_scores_rating\") >= 80,1).otherwise(0))\n",
        "csv = csv.withColumn(\"host_response_rate\", csv[\"host_response_rate\"].cast(IntegerType()))\n",
        "csv = csv.withColumn(\"host_listings_count\", csv[\"host_listings_count\"].cast(IntegerType()))\n",
        "csv = csv.withColumn(\"host_total_listings_count\", csv[\"host_total_listings_count\"].cast(IntegerType()))\n",
        "csv = csv.withColumn(\"price\", csv[\"price\"].cast(IntegerType()))\n",
        "csv = csv.withColumn(\"weekly_price\", csv[\"weekly_price\"].cast(IntegerType()))\n",
        "csv = csv.withColumn(\"monthly_price\", csv[\"monthly_price\"].cast(IntegerType()))\n",
        "\n",
        "csv = csv.withColumn(\"maximum_nights\", csv[\"maximum_nights\"].cast(IntegerType()))\n",
        "csv = csv.withColumn(\"review_scores_accuracy\", csv[\"review_scores_accuracy\"].cast(IntegerType()))\n",
        "csv = csv.withColumn(\"review_scores_cleanliness\", csv[\"review_scores_cleanliness\"].cast(IntegerType()))\n",
        "csv = csv.withColumn(\"review_scores_checkin\", csv[\"review_scores_checkin\"].cast(IntegerType()))\n",
        "csv = csv.withColumn(\"review_scores_communication\", csv[\"review_scores_communication\"].cast(IntegerType()))\n",
        "csv = csv.withColumn(\"review_scores_location\", csv[\"review_scores_location\"].cast(IntegerType()))\n",
        "\n",
        "csv = csv.withColumn(\"review_scores_value\", csv[\"review_scores_value\"].cast(IntegerType()))\n",
        "csv = csv.withColumn(\"calculated_host_listings_count\", csv[\"calculated_host_listings_count\"].cast(IntegerType()))\n",
        "csv = csv.withColumn(\"bedrooms\", csv[\"bedrooms\"].cast(IntegerType()))\n",
        "csv = csv.withColumn(\"bathrooms\", csv[\"bathrooms\"].cast(IntegerType()))\n",
        "csv = csv.withColumn(\"beds\", csv[\"beds\"].cast(IntegerType()))\n",
        "csv = csv.withColumn(\"security_deposit\", csv[\"security_deposit\"].cast(IntegerType()))\n",
        "\n",
        "csv = csv.withColumn(\"host_acceptance_rate\", csv[\"host_acceptance_rate\"].cast(IntegerType()))\n",
        "csv = csv.withColumn(\"cleaning_fee\", csv[\"cleaning_fee\"].cast(IntegerType()))\n",
        "csv = csv.withColumn(\"extra_people\", csv[\"extra_people\"].cast(IntegerType()))\n",
        "csv = csv.withColumn(\"minimum_nights\", csv[\"minimum_nights\"].cast(IntegerType()))\n",
        "\n",
        "csv.show(5)\n"
      ]
    },
    {
      "cell_type": "code",
      "execution_count": null,
      "metadata": {
        "id": "e_YenlKzAgY1",
        "outputId": "feef2fa8-1186-4ecf-ef98-cf1680911746"
      },
      "outputs": [
        {
          "name": "stdout",
          "output_type": "stream",
          "text": [
            "+--------------------+-------------------+-------------------------+------------------------------+----------------+------------+------------------+------------------+--------------------+-------------+---------------+--------+------------+-------------+--------------+----------------------+-------------------------+---------------------+---------------------------+----------------------+-------------------+-------------------+--------+---------+----+------------+--------------+-----+\n",
            "|review_scores_rating|host_listings_count|host_total_listings_count|calculated_host_listings_count|security_deposit|cleaning_fee|host_response_time|host_response_rate|host_acceptance_rate|property_type|      room_type|bed_type|weekly_price|monthly_price|maximum_nights|review_scores_accuracy|review_scores_cleanliness|review_scores_checkin|review_scores_communication|review_scores_location|review_scores_value|cancellation_policy|bedrooms|bathrooms|beds|extra_people|minimum_nights|label|\n",
            "+--------------------+-------------------+-------------------------+------------------------------+----------------+------------+------------------+------------------+--------------------+-------------+---------------+--------+------------+-------------+--------------+----------------------+-------------------------+---------------------+---------------------------+----------------------+-------------------+-------------------+--------+---------+----+------------+--------------+-----+\n",
            "|                   1|                  2|                        2|                             2|            null|        null|    within an hour|               100|                null|    Apartment|   Private room|Real Bed|        null|         null|             5|                    10|                       10|                   10|                         10|                     8|                 10|           flexible|       1|        1|   1|           0|             2|  298|\n",
            "|                   1|                  1|                        1|                             1|             993|         364|              null|              null|                null|    Apartment|Entire home/apt|Real Bed|        null|         null|            28|                    10|                       10|                   10|                         10|                    10|                  9|             strict|       2|        1|   3|         132|             2| null|\n",
            "|                   0|                  2|                        2|                             2|            null|         100|    within an hour|               100|                null|    Apartment|Entire home/apt|Real Bed|        null|         null|          1125|                  null|                     null|                 null|                       null|                  null|               null|           moderate|       1|        1|   1|           0|             3|  649|\n",
            "|                   0|                  1|                        1|                             1|            null|        null|              null|              null|                null|    Apartment|Entire home/apt|Real Bed|        null|         null|          1125|                  null|                     null|                 null|                       null|                  null|               null|           flexible|       2|        1|   3|           0|             5|  656|\n",
            "|                   1|                  1|                        1|                             1|            null|        null|              null|              null|                null|    Apartment|   Private room|Real Bed|        null|         null|          1125|                    10|                        8|                   10|                         10|                    10|                  9|           flexible|       1|        1|   1|           0|             3|  232|\n",
            "+--------------------+-------------------+-------------------------+------------------------------+----------------+------------+------------------+------------------+--------------------+-------------+---------------+--------+------------+-------------+--------------+----------------------+-------------------------+---------------------+---------------------------+----------------------+-------------------+-------------------+--------+---------+----+------------+--------------+-----+\n",
            "only showing top 5 rows\n",
            "\n"
          ]
        }
      ],
      "source": [
        "csv = csv.filter(col(\"minimum_nights\")<= 365)\n",
        "\n",
        "#data = csv.select(\"Host Response Time\",\"Host Response Rate\",\"Host Acceptance Rate\",\"Host Neighborhood\",\"Host Listings Count\",\"Host Total Listings Count\",\"Property Type\",\"Room Type\",\"Price\",\"Weekly Price\",\"Monthly Price\",\"Maximum Nights\",\"Review Scores Accuracy\",\"Review Scores Cleanliness\",\"Review Scores Checkin\",\"Review Scores Communication\",\"Review Scores Location\",\"Review Scores Value\",\"Cancellation Policy\",\"Calculated host listings count\",\"Neighborhood Cleansed\",\"Neighborhood Group Cleansed\",\"Bedrooms\",\"Bathrooms\",\"Beds\",\"Security Deposit\",\"Cleaning Fee\",\"Extra People\",\"Minimum Nights\",\"Calendar Updated\",\"Amenities\", col(\"Review Scores Rating\").alias(\"label\"))\n",
        "\n",
        "#data = csv.select(\"Host Response Time\",\"Host Response Rate\",\"Host Acceptance Rate\",\"Host Listings Count\",\"Host Total Listings Count\",\"Property Type\",\"Room Type\",\"Price\",\"Weekly Price\",\"Monthly Price\",\"Maximum Nights\",\"Review Scores Accuracy\",\"Review Scores Cleanliness\",\"Review Scores Checkin\",\"Review Scores Communication\",\"Review Scores Location\",\"Review Scores Value\",\"Cancellation Policy\",\"Calculated host listings count\",\"Bedrooms\",\"Bathrooms\",\"Beds\",\"Security Deposit\",\"Cleaning Fee\",\"Extra People\",\"Minimum Nights\",\"Calendar Updated\",\"Amenities\", col(\"Review Scores Rating\").alias(\"label\"))\n",
        "\n",
        "#data = csv.select(\"Host Response Time\",\"Host Response Rate\",\"Host Acceptance Rate\",\"Property Type\",\"Room Type\",\"Price\",\"Weekly Price\",\"Monthly Price\",\"Maximum Nights\",\"Review Scores Accuracy\",\"Review Scores Cleanliness\",\"Review Scores Checkin\",\"Review Scores Communication\",\"Review Scores Location\",\"Review Scores Value\",\"Cancellation Policy\",\"Bedrooms\",\"Bathrooms\",\"Beds\",\"Extra People\",\"Minimum Nights\", col(\"Review Scores Rating\").alias(\"label\"))\n",
        "data = csv.select(\"review_scores_rating\", \"host_listings_count\", \"host_total_listings_count\", \"calculated_host_listings_count\", \"security_deposit\", \"cleaning_fee\" , \"host_response_time\",\"host_response_rate\",\"host_acceptance_rate\",\"property_type\",\"room_type\",\"bed_type\", \"weekly_price\",\"monthly_price\",\"maximum_nights\",\"review_scores_accuracy\",\"review_scores_cleanliness\",\"review_scores_checkin\",\"review_scores_communication\",\"review_scores_location\",\"review_scores_value\",\"cancellation_policy\",\"bedrooms\",\"bathrooms\",\"beds\",\"extra_people\",\"minimum_nights\",col(\"price\").cast(\"Int\").alias(\"label\"))\n",
        "\n",
        "#csv.show(5)\n",
        "data.show(5)"
      ]
    },
    {
      "cell_type": "code",
      "execution_count": null,
      "metadata": {
        "id": "Eg8x9iOaAgY2"
      },
      "outputs": [],
      "source": [
        "# Filter Property Type not in the correct list\n",
        "property_list = [\"Apartment\",\"House\",\"Bed & Breakfast\",\"Condominium\",\"Loft\", \"Townhouse\",\"Other\",\"Villa\", \"Guesthouse\", \"Bungalow\", \"Dorm\", \"Boat\", \"Cabin\", \"Chalet\", \"Boutique hotel\", \"Serviced apartment\", \"Hostel\", \"Camper/RV\", \"Timeshare\", \"Guest suite\", \"Tent\", \"Vacation home\", \"Castle, Treehouse\", \"In-law\", \"Earth House\", \"Hut\", \"Yurt\", \"Entire Floor\", \"Tipi\", \"Nature lodge\", \"Cave\", \"Lighthouse\", \"Casa particular\", \"Train\", \"Island\", \"Igloo\", \"Parking Space\", \"Pension (Korea)\", \"Ryokan (Japan)\", \"Car\", \"Heritage hotel (India)\", \"Plane\", \"Van\"\n",
        "]\n",
        "\n",
        "data = data.filter(data.property_type.isin(property_list))"
      ]
    },
    {
      "cell_type": "code",
      "execution_count": null,
      "metadata": {
        "id": "bg1WtcNmAgY2",
        "outputId": "b2501544-d4bf-4520-ff5f-1317bcb884ec"
      },
      "outputs": [
        {
          "data": {
            "text/plain": [
              "DataFrame[review_scores_rating: int, host_listings_count: int, host_total_listings_count: int, calculated_host_listings_count: int, security_deposit: int, cleaning_fee: int, host_response_time: string, host_response_rate: int, host_acceptance_rate: int, property_type: string, room_type: string, bed_type: string, weekly_price: int, monthly_price: int, maximum_nights: int, review_scores_accuracy: int, review_scores_cleanliness: int, review_scores_checkin: int, review_scores_communication: int, review_scores_location: int, review_scores_value: int, cancellation_policy: string, bedrooms: int, bathrooms: int, beds: int, extra_people: int, minimum_nights: int, label: int]"
            ]
          },
          "execution_count": 71,
          "metadata": {},
          "output_type": "execute_result"
        }
      ],
      "source": [
        "#csv.persist(pyspark.StorageLevel.MEMORY_AND_DISK_2)\n",
        "#csv.persist(pyspark.StorageLevel.OFF_HEAP)\n",
        "data.persist(pyspark.StorageLevel.DISK_ONLY_2)"
      ]
    },
    {
      "cell_type": "markdown",
      "metadata": {
        "id": "w_Z2PZDqAgY2"
      },
      "source": [
        "\n",
        "## Data Cleaning\n",
        "**Handling Missing Values:** Filling the missing values of numeric columns with **'0'** and string columns with **'NA'**"
      ]
    },
    {
      "cell_type": "code",
      "execution_count": null,
      "metadata": {
        "id": "xboIbbdhAgY4",
        "outputId": "21c66298-2f7a-4fb5-a8de-3681be1f3a03"
      },
      "outputs": [
        {
          "name": "stdout",
          "output_type": "stream",
          "text": [
            "[[1.0, 2.0], [0.0, 3.0], [600.0, 8950.0], [0.0, 50.0], [1.0, 7.0], [29.0, 495.0]]\n",
            "+--------------------+-------------------+-------------------------+------------------------------+----------------+------------+------------------+------------------+--------------------+-------------+---------------+--------+------------+-------------+--------------+----------------------+-------------------------+---------------------+---------------------------+----------------------+-------------------+-------------------+--------+---------+----+------------+--------------+-----+\n",
            "|review_scores_rating|host_listings_count|host_total_listings_count|calculated_host_listings_count|security_deposit|cleaning_fee|host_response_time|host_response_rate|host_acceptance_rate|property_type|      room_type|bed_type|weekly_price|monthly_price|maximum_nights|review_scores_accuracy|review_scores_cleanliness|review_scores_checkin|review_scores_communication|review_scores_location|review_scores_value|cancellation_policy|bedrooms|bathrooms|beds|extra_people|minimum_nights|label|\n",
            "+--------------------+-------------------+-------------------------+------------------------------+----------------+------------+------------------+------------------+--------------------+-------------+---------------+--------+------------+-------------+--------------+----------------------+-------------------------+---------------------+---------------------------+----------------------+-------------------+-------------------+--------+---------+----+------------+--------------+-----+\n",
            "|                   1|                  1|                        1|                             1|            null|         100|    within an hour|               100|                null|    Apartment|   Private room|Real Bed|        null|         6800|            10|                    10|                        8|                    9|                         10|                     9|                  9|             strict|       1|        1|   1|          50|             1|  298|\n",
            "|                   1|                  9|                        9|                             6|             150|          25|    within an hour|               100|                null|    Townhouse|   Private room|Real Bed|         456|         1399|          1125|                    10|                       10|                   10|                         10|                     9|                 10|             strict|       1|        1|   1|          30|             1|   88|\n",
            "|                   1|                  1|                        1|                             1|             662|        null|              null|              null|                null|    Apartment|   Private room|Real Bed|        null|         6623|          1125|                     9|                        8|                   10|                         10|                    10|                  9|           flexible|       1|        1|   1|           0|             1|  464|\n",
            "|                   1|                  1|                        1|                             1|            null|          25|    within an hour|               100|                null|        House|Entire home/apt|Real Bed|         600|         1800|            60|                     9|                       10|                    9|                          9|                     8|                  9|           moderate|       3|        1|   3|          50|             3|  100|\n",
            "|                   1|                  1|                        1|                             1|            null|          60|    within an hour|               100|                null|    Apartment|Entire home/apt|Real Bed|         950|         3600|          1125|                    10|                       10|                   10|                         10|                    10|                 10|             strict|       0|        1|   2|          20|             1|  190|\n",
            "|                   1|                  1|                        1|                             1|             150|          15|    within an hour|               100|                null|  Condominium|   Private room|Real Bed|         475|         1800|          1125|                    10|                        9|                   10|                         10|                    10|                 10|           moderate|       1|        1|   1|          40|             2|   91|\n",
            "|                   1|                  3|                        3|                             1|             250|          50|within a few hours|               100|                null|    Apartment|Entire home/apt|Real Bed|        null|         3000|          1125|                    10|                       10|                   10|                         10|                    10|                 10|           moderate|       1|        1|   2|          15|             4|  150|\n",
            "|                   1|                  1|                        1|                             1|             500|          59|    within an hour|               100|                null|    Apartment|Entire home/apt|Real Bed|         900|         3171|           365|                    10|                       10|                   10|                         10|                    10|                 10|             strict|       1|        1|   1|           0|             1|  195|\n",
            "|                   1|                  1|                        1|                             1|            null|          15|    within an hour|               100|                null|   Guesthouse|   Private room|Real Bed|         600|         2000|          1125|                    10|                       10|                   10|                         10|                    10|                  9|           moderate|       2|        1|   2|           0|             2|  195|\n",
            "|                   1|                  4|                        4|                             4|            null|        null|    within an hour|                80|                null|    Apartment|Entire home/apt|Real Bed|         525|         2000|            90|                     9|                       10|                   10|                         10|                    10|                 10|             strict|       0|        1|   1|           0|             1|   77|\n",
            "|                   1|                  2|                        2|                             2|             300|          30|within a few hours|               100|                null|    Apartment|Entire home/apt|Real Bed|         482|         1441|          1125|                    10|                        9|                   10|                         10|                    10|                  9|             strict|       1|        1|   1|           0|             4|   78|\n",
            "|                   1|                  1|                        1|                             1|             400|          14|              null|              null|                null|    Apartment|Entire home/apt|Real Bed|         599|         1800|          1125|                    10|                       10|                   10|                         10|                    10|                 10|           moderate|       2|        1|   2|           0|             5|   89|\n",
            "|                   1|                  1|                        1|                             1|            null|          20|within a few hours|               100|                null|    Apartment|   Private room|Real Bed|         500|         1500|          1125|                    10|                        9|                   10|                         10|                    10|                 10|           moderate|       1|        1|   1|           0|             2|   70|\n",
            "|                   0|                  1|                        1|                             1|            null|           5|              null|              null|                null|    Apartment|   Private room|Real Bed|         440|         1494|            15|                  null|                     null|                 null|                       null|                  null|               null|           flexible|       1|        1|   1|           0|             5|   45|\n",
            "|                   0|                  1|                        1|                             1|             250|          50|              null|              null|                null|    Apartment|Entire home/apt|Real Bed|         800|         2667|            25|                  null|                     null|                 null|                       null|                  null|               null|           moderate|       1|        1|   1|           0|             1|  127|\n",
            "|                   1|                  3|                        3|                             3|            null|          50|within a few hours|               100|                null|    Apartment|Entire home/apt|Real Bed|         672|         2520|            30|                     9|                        9|                    9|                          9|                    10|                  9|           moderate|       1|        1|   1|           0|             3|  110|\n",
            "|                   0|                  1|                        1|                             1|             350|          10|              null|              null|                null|    Apartment|   Private room|Real Bed|         350|         1500|          1125|                  null|                     null|                 null|                       null|                  null|               null|           flexible|       1|        1|   1|          25|             1|   50|\n",
            "|                   1|                  1|                        1|                             1|             300|          40|      within a day|                67|                null|    Apartment|Entire home/apt|Real Bed|         700|         2000|            90|                     8|                        9|                    8|                          8|                     9|                  8|             strict|       1|        1|   2|          30|             4|   80|\n",
            "|                   1|                  2|                        2|                             2|              99|          20|within a few hours|               100|                null|    Apartment|   Private room|Real Bed|         620|         2505|          1125|                     9|                        9|                   10|                         10|                    10|                  9|             strict|       1|        1|   2|          15|             1|   89|\n",
            "|                   0|                  3|                        3|                             1|            null|        null|      within a day|               100|                null|    Apartment|Entire home/apt|Real Bed|         490|         1400|            90|                  null|                     null|                 null|                       null|                  null|               null|           moderate|       1|        1|   2|           0|             5|   80|\n",
            "|                   0|                  1|                        1|                             1|             500|          20|              null|              null|                null|    Apartment|Entire home/apt|Real Bed|         900|         3500|            30|                  null|                     null|                 null|                       null|                  null|               null|             strict|       0|        1|   1|           0|             5|  140|\n",
            "|                   1|                  2|                        2|                             2|            null|        null|    within an hour|               100|                null|    Apartment|   Private room|Real Bed|         550|         2000|          1125|                    10|                       10|                   10|                         10|                    10|                  8|           moderate|       1|        1|   1|           0|             2|   75|\n",
            "|                   1|                  1|                        1|                             1|            null|        null|    within an hour|               100|                null|    Apartment|   Private room|Real Bed|         450|         1500|            30|                    10|                       10|                   10|                         10|                    10|                 10|             strict|       1|        1|   1|           0|             2|   60|\n",
            "|                   1|                  1|                        1|                             1|            null|          10|      within a day|               100|                null|    Apartment|   Private room|Real Bed|        null|         1800|            30|                    10|                       10|                   10|                         10|                    10|                 10|           moderate|       1|        2|   1|           0|             2|   70|\n",
            "|                   1|                  2|                        2|                             2|             100|          35|      within a day|                80|                null|    Apartment|Entire home/apt|Real Bed|         930|         3250|          1125|                     8|                        9|                    9|                          9|                     9|                  8|           flexible|       2|        2|   2|           0|             1|  120|\n",
            "|                   0|                  5|                        5|                             2|             100|        null|      within a day|                84|                null|    Apartment|Entire home/apt|Real Bed|         945|         3500|            90|                     7|                        8|                    9|                          9|                     9|                  8|           flexible|       2|        2|   4|           0|             3|  120|\n",
            "|                   1|                  1|                        1|                             1|             500|          30|    within an hour|               100|                null|    Apartment|Entire home/apt|Real Bed|        null|         3800|          1125|                    10|                       10|                   10|                          9|                    10|                  9|             strict|       2|        1|   2|           0|             2|  130|\n",
            "|                   1|                  1|                        1|                             1|             200|        null|              null|              null|                null|    Apartment|Entire home/apt|Real Bed|         650|         2400|          1125|                    10|                        9|                   10|                         10|                    10|                  9|             strict|       1|        1|   2|           0|             3|  130|\n",
            "|                   0|                 16|                       16|                            13|            null|          30|within a few hours|               100|                null|    Apartment|Entire home/apt|Real Bed|         690|         2690|          1125|                     4|                        6|                    9|                          8|                     9|                  4|             strict|       0|        1|   2|           7|             1|   95|\n",
            "|                   1|                  1|                        1|                             1|            null|        null|      within a day|                57|                null|    Apartment|Entire home/apt|Real Bed|         298|         1050|          1125|                    10|                       10|                   10|                         10|                    10|                 10|           moderate|       1|        1|   1|           0|             2|   55|\n",
            "+--------------------+-------------------+-------------------------+------------------------------+----------------+------------+------------------+------------------+--------------------+-------------+---------------+--------+------------+-------------+--------------+----------------------+-------------------------+---------------------+---------------------------+----------------------+-------------------+-------------------+--------+---------+----+------------+--------------+-----+\n",
            "only showing top 30 rows\n",
            "\n"
          ]
        }
      ],
      "source": [
        "outliers = data.stat.approxQuantile([\"bathrooms\",\"bedrooms\",\"monthly_price\",\"extra_people\",\"minimum_nights\",\"label\"], [0.05,0.95],0.0)\n",
        " \n",
        "print(outliers)\n",
        " \n",
        "#Filtering the dataframe by removing the outliers\n",
        "#  data1 = data.filter(col(\"Host Listings Count\") >= outliers(0)(0) && col(\"Host Listings Count\")  <= outliers(0)(1))\n",
        "#  data2 = data.filter(col(\"Host Total Listings Count\") >= outliers(1)(0) && col(\"Host Total Listings Count\")  <= outliers(1)(1))\n",
        "# data3 = data.filter(data[\"Accommodates\"] >= outliers[0][0] and data[\"Accommodates\"]  <= outliers[0][1])\n",
        "data4 = data.filter((data[\"bathrooms\"] >= outliers[0][0]) & (data[\"bathrooms\"]  <= outliers[0][1]))\n",
        "data5 = data4.filter((data4[\"bedrooms\"] >= outliers[1][0]) & (data4[\"bedrooms\"]  <= outliers[1][1]))\n",
        "data6 = data5.filter((data5[\"monthly_price\"] >= outliers[2][0]) & (data5[\"monthly_price\"]  <= outliers[2][1]))\n",
        "# data7 = data6.filter(data6[\"Cleaning Fee\"] >= outliers[4][0] and data6[\"Cleaning Fee\"]  <= outliers[4][1])\n",
        "#data8 = data7.filter(data7[\"Guests Included\"] >= outliers[5][0]) and data7[\"Guests Included\"]  <= outliers[5][1])\n",
        "data9 = data6.filter((data6[\"extra_people\"] >= outliers[3][0]) & (data6[\"extra_people\"]  <= outliers[3][1]))\n",
        "data10 = data9.filter((data9[\"minimum_nights\"] >= outliers[4][0]) & (data9[\"minimum_nights\"]  <= outliers[4][1]))\n",
        "\n",
        "final_data = data10.filter((data10[\"label\"] >= outliers[5][0]) & (data10[\"label\"]  <= outliers[5][1]))\n",
        " \n",
        "final_data.show(30)\n"
      ]
    },
    {
      "cell_type": "code",
      "execution_count": null,
      "metadata": {
        "id": "-RDDtlDvAgY4",
        "outputId": "4e30710f-a637-446f-a4b4-e553c8cea79f"
      },
      "outputs": [
        {
          "name": "stdout",
          "output_type": "stream",
          "text": [
            "+--------------------+-------------------+-------------------------+------------------------------+----------------+------------+------------------+------------------+--------------------+-------------+---------------+--------+------------+-------------+--------------+----------------------+-------------------------+---------------------+---------------------------+----------------------+-------------------+-------------------+--------+---------+----+------------+--------------+-----+\n",
            "|review_scores_rating|host_listings_count|host_total_listings_count|calculated_host_listings_count|security_deposit|cleaning_fee|host_response_time|host_response_rate|host_acceptance_rate|property_type|      room_type|bed_type|weekly_price|monthly_price|maximum_nights|review_scores_accuracy|review_scores_cleanliness|review_scores_checkin|review_scores_communication|review_scores_location|review_scores_value|cancellation_policy|bedrooms|bathrooms|beds|extra_people|minimum_nights|label|\n",
            "+--------------------+-------------------+-------------------------+------------------------------+----------------+------------+------------------+------------------+--------------------+-------------+---------------+--------+------------+-------------+--------------+----------------------+-------------------------+---------------------+---------------------------+----------------------+-------------------+-------------------+--------+---------+----+------------+--------------+-----+\n",
            "|                   1|                  1|                        1|                             1|               0|         100|    within an hour|               100|                   0|    Apartment|   Private room|Real Bed|           0|         6800|            10|                    10|                        8|                    9|                         10|                     9|                  9|             strict|       1|        1|   1|          50|             1|  298|\n",
            "|                   1|                  9|                        9|                             6|             150|          25|    within an hour|               100|                   0|    Townhouse|   Private room|Real Bed|         456|         1399|          1125|                    10|                       10|                   10|                         10|                     9|                 10|             strict|       1|        1|   1|          30|             1|   88|\n",
            "|                   1|                  1|                        1|                             1|             662|           0|                NA|                 0|                   0|    Apartment|   Private room|Real Bed|           0|         6623|          1125|                     9|                        8|                   10|                         10|                    10|                  9|           flexible|       1|        1|   1|           0|             1|  464|\n",
            "|                   1|                  1|                        1|                             1|               0|          25|    within an hour|               100|                   0|        House|Entire home/apt|Real Bed|         600|         1800|            60|                     9|                       10|                    9|                          9|                     8|                  9|           moderate|       3|        1|   3|          50|             3|  100|\n",
            "|                   1|                  1|                        1|                             1|               0|          60|    within an hour|               100|                   0|    Apartment|Entire home/apt|Real Bed|         950|         3600|          1125|                    10|                       10|                   10|                         10|                    10|                 10|             strict|       0|        1|   2|          20|             1|  190|\n",
            "+--------------------+-------------------+-------------------------+------------------------------+----------------+------------+------------------+------------------+--------------------+-------------+---------------+--------+------------+-------------+--------------+----------------------+-------------------------+---------------------+---------------------------+----------------------+-------------------+-------------------+--------+---------+----+------------+--------------+-----+\n",
            "only showing top 5 rows\n",
            "\n"
          ]
        }
      ],
      "source": [
        "#data_clean = data.na.fill(value=0).na.fill(\"\")\n",
        "# jwoo\n",
        "# data_clean = data.na.fill(value=0).na.fill(\"NA\")\n",
        "\n",
        "#data_clean = data.na.fill(value=0)\n",
        "data_clean = final_data.na.fill(value=0).na.fill(\"NA\")\n",
        "\n",
        "data_clean.show(5)"
      ]
    },
    {
      "cell_type": "code",
      "execution_count": null,
      "metadata": {
        "id": "sUX5NTTrAgY5",
        "outputId": "b188a2ca-b887-45da-e71d-87125ea975ff"
      },
      "outputs": [
        {
          "name": "stdout",
          "output_type": "stream",
          "text": [
            "+--------------------+-------------------+-------------------------+------------------------------+----------------+------------+------------------+------------------+--------------------+-------------+---------------+--------+------------+-------------+--------------+----------------------+-------------------------+---------------------+---------------------------+----------------------+-------------------+-------------------+--------+---------+----+------------+--------------+-----+------------------------+-------------------------+-------------------+---------------+--------------+--------------------------+\n",
            "|review_scores_rating|host_listings_count|host_total_listings_count|calculated_host_listings_count|security_deposit|cleaning_fee|host_response_time|host_response_rate|host_acceptance_rate|property_type|      room_type|bed_type|weekly_price|monthly_price|maximum_nights|review_scores_accuracy|review_scores_cleanliness|review_scores_checkin|review_scores_communication|review_scores_location|review_scores_value|cancellation_policy|bedrooms|bathrooms|beds|extra_people|minimum_nights|label|host_response_time_index|cancellation_policy_index|property_type_index|room_type_index|bed_type_index|review_scores_rating_index|\n",
            "+--------------------+-------------------+-------------------------+------------------------------+----------------+------------+------------------+------------------+--------------------+-------------+---------------+--------+------------+-------------+--------------+----------------------+-------------------------+---------------------+---------------------------+----------------------+-------------------+-------------------+--------+---------+----+------------+--------------+-----+------------------------+-------------------------+-------------------+---------------+--------------+--------------------------+\n",
            "|                   1|                  1|                        1|                             1|               0|         100|    within an hour|               100|                   0|    Apartment|   Private room|Real Bed|           0|         6800|            10|                    10|                        8|                    9|                         10|                     9|                  9|             strict|       1|        1|   1|          50|             1|  298|                     0.0|                      0.0|                0.0|            1.0|           0.0|                       0.0|\n",
            "|                   1|                  9|                        9|                             6|             150|          25|    within an hour|               100|                   0|    Townhouse|   Private room|Real Bed|         456|         1399|          1125|                    10|                       10|                   10|                         10|                     9|                 10|             strict|       1|        1|   1|          30|             1|   88|                     0.0|                      0.0|                5.0|            1.0|           0.0|                       0.0|\n",
            "|                   1|                  1|                        1|                             1|             662|           0|                NA|                 0|                   0|    Apartment|   Private room|Real Bed|           0|         6623|          1125|                     9|                        8|                   10|                         10|                    10|                  9|           flexible|       1|        1|   1|           0|             1|  464|                     2.0|                      2.0|                0.0|            1.0|           0.0|                       0.0|\n",
            "|                   1|                  1|                        1|                             1|               0|          25|    within an hour|               100|                   0|        House|Entire home/apt|Real Bed|         600|         1800|            60|                     9|                       10|                    9|                          9|                     8|                  9|           moderate|       3|        1|   3|          50|             3|  100|                     0.0|                      1.0|                1.0|            0.0|           0.0|                       0.0|\n",
            "|                   1|                  1|                        1|                             1|               0|          60|    within an hour|               100|                   0|    Apartment|Entire home/apt|Real Bed|         950|         3600|          1125|                    10|                       10|                   10|                         10|                    10|                 10|             strict|       0|        1|   2|          20|             1|  190|                     0.0|                      0.0|                0.0|            0.0|           0.0|                       0.0|\n",
            "+--------------------+-------------------+-------------------------+------------------------------+----------------+------------+------------------+------------------+--------------------+-------------+---------------+--------+------------+-------------+--------------+----------------------+-------------------------+---------------------+---------------------------+----------------------+-------------------+-------------------+--------+---------+----+------------+--------------+-----+------------------------+-------------------------+-------------------+---------------+--------------+--------------------------+\n",
            "only showing top 5 rows\n",
            "\n"
          ]
        }
      ],
      "source": [
        "# jwoo: add .setHandleInvalid(\"skip\"): or \"keep\" for null value\n",
        "data_clean = StringIndexer(inputCol='host_response_time', outputCol='host_response_time_index').setHandleInvalid(\"skip\").fit(data_clean).transform(data_clean)\n",
        "\n",
        "data_clean = StringIndexer(inputCol='cancellation_policy', outputCol='cancellation_policy_index').setHandleInvalid(\"skip\").fit(data_clean).transform(data_clean)\n",
        "\n",
        "data_clean = StringIndexer(inputCol='property_type', outputCol='property_type_index').setHandleInvalid(\"keep\").fit(data_clean).transform(data_clean)\n",
        "data_clean= StringIndexer(inputCol='room_type', outputCol='room_type_index').setHandleInvalid(\"keep\").fit(data_clean).transform(data_clean)\n",
        "#data_clean = StringIndexer(inputCol='Bed Type', outputCol='BedType_index').setHandleInvalid(\"keep\").fit(data_clean).transform(data_clean)\n",
        "#jwoo\n",
        "data_clean = StringIndexer(inputCol='bed_type', outputCol='bed_type_index').setHandleInvalid(\"keep\").fit(data_clean).transform(data_clean)\n",
        "#data_clean = StringIndexer(inputCol='Host Listings Count', outputCol='Host_Listings_Count_index').setHandleInvalid(\"keep\").fit(data_clean).transform(data_clean)\n",
        "\n",
        "data_clean = StringIndexer(inputCol=\"review_scores_rating\", outputCol='review_scores_rating_index').fit(data_clean).transform(data_clean)\n",
        "\n",
        "data_clean.show(5)"
      ]
    },
    {
      "cell_type": "code",
      "execution_count": null,
      "metadata": {
        "id": "CCl8keA-AgY5",
        "outputId": "8fe07577-7d25-413c-f33c-89214c395c0f"
      },
      "outputs": [
        {
          "name": "stdout",
          "output_type": "stream",
          "text": [
            "+-------------------+-------------------------+------------------------------+----------------+------------+------------------+--------------------+------------+-------------+--------------+----------------------+-------------------------+---------------------+---------------------------+----------------------+-------------------+--------+---------+----+------------+--------------+-----+------------------------+-------------------------+-------------------+---------------+--------------+--------------------------+\n",
            "|host_listings_count|host_total_listings_count|calculated_host_listings_count|security_deposit|cleaning_fee|host_response_rate|host_acceptance_rate|weekly_price|monthly_price|maximum_nights|review_scores_accuracy|review_scores_cleanliness|review_scores_checkin|review_scores_communication|review_scores_location|review_scores_value|bedrooms|bathrooms|beds|extra_people|minimum_nights|label|host_response_time_index|cancellation_policy_index|property_type_index|room_type_index|bed_type_index|review_scores_rating_index|\n",
            "+-------------------+-------------------------+------------------------------+----------------+------------+------------------+--------------------+------------+-------------+--------------+----------------------+-------------------------+---------------------+---------------------------+----------------------+-------------------+--------+---------+----+------------+--------------+-----+------------------------+-------------------------+-------------------+---------------+--------------+--------------------------+\n",
            "|                  1|                        1|                             1|               0|         100|               100|                   0|           0|         6800|            10|                    10|                        8|                    9|                         10|                     9|                  9|       1|        1|   1|          50|             1|  298|                     0.0|                      0.0|                0.0|            1.0|           0.0|                       0.0|\n",
            "|                  9|                        9|                             6|             150|          25|               100|                   0|         456|         1399|          1125|                    10|                       10|                   10|                         10|                     9|                 10|       1|        1|   1|          30|             1|   88|                     0.0|                      0.0|                5.0|            1.0|           0.0|                       0.0|\n",
            "|                  1|                        1|                             1|             662|           0|                 0|                   0|           0|         6623|          1125|                     9|                        8|                   10|                         10|                    10|                  9|       1|        1|   1|           0|             1|  464|                     2.0|                      2.0|                0.0|            1.0|           0.0|                       0.0|\n",
            "|                  1|                        1|                             1|               0|          25|               100|                   0|         600|         1800|            60|                     9|                       10|                    9|                          9|                     8|                  9|       3|        1|   3|          50|             3|  100|                     0.0|                      1.0|                1.0|            0.0|           0.0|                       0.0|\n",
            "|                  1|                        1|                             1|               0|          60|               100|                   0|         950|         3600|          1125|                    10|                       10|                   10|                         10|                    10|                 10|       0|        1|   2|          20|             1|  190|                     0.0|                      0.0|                0.0|            0.0|           0.0|                       0.0|\n",
            "+-------------------+-------------------------+------------------------------+----------------+------------+------------------+--------------------+------------+-------------+--------------+----------------------+-------------------------+---------------------+---------------------------+----------------------+-------------------+--------+---------+----+------------+--------------+-----+------------------------+-------------------------+-------------------+---------------+--------------+--------------------------+\n",
            "only showing top 5 rows\n",
            "\n"
          ]
        }
      ],
      "source": [
        "#jwoo: drop the unneccessary columns as index value generated from them\n",
        "final_df = data_clean.drop('host_response_time', \"property_type\", \"room_type\", \"bed_type\", \"cancellation_policy\", \"review_scores_rating\")\n",
        "final_df.show(5)"
      ]
    },
    {
      "cell_type": "code",
      "execution_count": null,
      "metadata": {
        "id": "_4LxhSHyAgY5",
        "outputId": "fcd39872-cf3e-4d4a-fe1c-25e528ae6935"
      },
      "outputs": [
        {
          "name": "stdout",
          "output_type": "stream",
          "text": [
            "root\n",
            " |-- host_listings_count: integer (nullable = true)\n",
            " |-- host_total_listings_count: integer (nullable = true)\n",
            " |-- calculated_host_listings_count: integer (nullable = true)\n",
            " |-- security_deposit: integer (nullable = true)\n",
            " |-- cleaning_fee: integer (nullable = true)\n",
            " |-- host_response_rate: integer (nullable = true)\n",
            " |-- host_acceptance_rate: integer (nullable = true)\n",
            " |-- weekly_price: integer (nullable = true)\n",
            " |-- monthly_price: integer (nullable = true)\n",
            " |-- maximum_nights: integer (nullable = true)\n",
            " |-- review_scores_accuracy: integer (nullable = true)\n",
            " |-- review_scores_cleanliness: integer (nullable = true)\n",
            " |-- review_scores_checkin: integer (nullable = true)\n",
            " |-- review_scores_communication: integer (nullable = true)\n",
            " |-- review_scores_location: integer (nullable = true)\n",
            " |-- review_scores_value: integer (nullable = true)\n",
            " |-- bedrooms: integer (nullable = true)\n",
            " |-- bathrooms: integer (nullable = true)\n",
            " |-- beds: integer (nullable = true)\n",
            " |-- extra_people: integer (nullable = true)\n",
            " |-- minimum_nights: integer (nullable = true)\n",
            " |-- label: integer (nullable = true)\n",
            " |-- host_response_time_index: double (nullable = false)\n",
            " |-- cancellation_policy_index: double (nullable = false)\n",
            " |-- property_type_index: double (nullable = false)\n",
            " |-- room_type_index: double (nullable = false)\n",
            " |-- bed_type_index: double (nullable = false)\n",
            " |-- review_scores_rating_index: double (nullable = false)\n",
            "\n"
          ]
        }
      ],
      "source": [
        "final_df.printSchema()"
      ]
    },
    {
      "cell_type": "code",
      "execution_count": null,
      "metadata": {
        "id": "oy5on5nLAgY5",
        "outputId": "db08c67d-4194-48f8-8f28-4f07cbf1c448"
      },
      "outputs": [
        {
          "name": "stdout",
          "output_type": "stream",
          "text": [
            "Training Rows: 33330  Testing Rows: 14390\n"
          ]
        }
      ],
      "source": [
        "\n",
        "# Split the data\n",
        "splits = final_df.randomSplit([0.7, 0.3])\n",
        "\n",
        "# for decision tree classifier\n",
        "train_df = splits[0]\n",
        "test_df = splits[1].withColumnRenamed(\"label\", \"trueLabel\")\n",
        "\n",
        "print (\"Training Rows:\", train_df.count(), \" Testing Rows:\", test_df.count())"
      ]
    },
    {
      "cell_type": "code",
      "execution_count": null,
      "metadata": {
        "id": "wxmYuvMcAgY6",
        "outputId": "c75f37ba-71b7-4252-f731-ec2f7be60feb"
      },
      "outputs": [
        {
          "name": "stdout",
          "output_type": "stream",
          "text": [
            "       host_listings_count  host_total_listings_count  \\\n",
            "0                        0                          0   \n",
            "1                        0                          0   \n",
            "2                        0                          0   \n",
            "3                        0                          0   \n",
            "4                        1                          1   \n",
            "...                    ...                        ...   \n",
            "33325                   93                         93   \n",
            "33326                   95                         95   \n",
            "33327                  106                        106   \n",
            "33328                  177                        177   \n",
            "33329                  879                        879   \n",
            "\n",
            "       calculated_host_listings_count  security_deposit  cleaning_fee  \\\n",
            "0                                   1                 0             0   \n",
            "1                                   1                 0           100   \n",
            "2                                   1               154            20   \n",
            "3                                   1               600            15   \n",
            "4                                   0                 0             0   \n",
            "...                               ...               ...           ...   \n",
            "33325                              24               500             0   \n",
            "33326                              29                 0             0   \n",
            "33327                              29                 0            40   \n",
            "33328                              53                 0             0   \n",
            "33329                              78                 0           100   \n",
            "\n",
            "       host_response_rate  host_acceptance_rate  weekly_price  monthly_price  \\\n",
            "0                       0                     0           750           3100   \n",
            "1                     100                     0             0           6000   \n",
            "2                     100                     0           342            980   \n",
            "3                       0                     0           660           2300   \n",
            "4                     100                     0           208            736   \n",
            "...                   ...                   ...           ...            ...   \n",
            "33325                  94                     0             0           8800   \n",
            "33326                 100                     0             0           8800   \n",
            "33327                  98                     0             0           1000   \n",
            "33328                  97                     0           889           2400   \n",
            "33329                  98                     0             0           6324   \n",
            "\n",
            "       maximum_nights  ...  beds  extra_people  minimum_nights  label  \\\n",
            "0                1125  ...     2             0               1     99   \n",
            "1                1125  ...     5             0               1    400   \n",
            "2                1125  ...     2             0               7     77   \n",
            "3                  28  ...     1             0               2    125   \n",
            "4                1125  ...     1            10               2     35   \n",
            "...               ...  ...   ...           ...             ...    ...   \n",
            "33325            1125  ...     3             0               4    350   \n",
            "33326             365  ...     2             0               5    450   \n",
            "33327            1125  ...     2            10               2     75   \n",
            "33328            1125  ...     1             0               2    148   \n",
            "33329            1125  ...     1             0               3    169   \n",
            "\n",
            "       host_response_time_index  cancellation_policy_index  \\\n",
            "0                           2.0                        2.0   \n",
            "1                           3.0                        1.0   \n",
            "2                           0.0                        2.0   \n",
            "3                           2.0                        0.0   \n",
            "4                           0.0                        0.0   \n",
            "...                         ...                        ...   \n",
            "33325                       1.0                        0.0   \n",
            "33326                       0.0                        0.0   \n",
            "33327                       1.0                        5.0   \n",
            "33328                       0.0                        0.0   \n",
            "33329                       1.0                        0.0   \n",
            "\n",
            "       property_type_index  room_type_index  bed_type_index  \\\n",
            "0                      1.0              0.0             0.0   \n",
            "1                      1.0              0.0             0.0   \n",
            "2                      0.0              0.0             0.0   \n",
            "3                      0.0              0.0             0.0   \n",
            "4                      0.0              1.0             0.0   \n",
            "...                    ...              ...             ...   \n",
            "33325                  0.0              0.0             0.0   \n",
            "33326                  0.0              0.0             0.0   \n",
            "33327                  0.0              0.0             0.0   \n",
            "33328                  0.0              0.0             0.0   \n",
            "33329                  0.0              0.0             0.0   \n",
            "\n",
            "       review_scores_rating_index  \n",
            "0                             1.0  \n",
            "1                             0.0  \n",
            "2                             0.0  \n",
            "3                             0.0  \n",
            "4                             0.0  \n",
            "...                           ...  \n",
            "33325                         0.0  \n",
            "33326                         1.0  \n",
            "33327                         1.0  \n",
            "33328                         0.0  \n",
            "33329                         0.0  \n",
            "\n",
            "[33330 rows x 28 columns]\n"
          ]
        }
      ],
      "source": [
        "train_df_pandas = train_df.toPandas()\n",
        "test_df_pandas = test_df.toPandas()\n",
        "print(train_df_pandas)\n"
      ]
    },
    {
      "cell_type": "code",
      "execution_count": null,
      "metadata": {
        "id": "LgKPOvVbAgY6"
      },
      "outputs": [],
      "source": [
        "# Split data into train_dataset and test_dataset\n",
        "# train_df, test_df = random_split(data, [0.9, 0.1], 0)\n",
        "# Convert spark dataframe into ray dataset\n",
        "\n",
        "'''\n",
        "train_dataset = ray.data.from_spark(train_df)\n",
        "test_dataset = ray.data.from_spark(test_df)\n",
        "'''\n",
        "# Distributed Loading [7]\n",
        "train_dataset = RayDMatrix(train_df, label=\"label\", enable_categorical=True)\n",
        "test_dataset = RayDMatrix(test_df, label='trueLabel', enable_categorical=True)\n"
      ]
    },
    {
      "cell_type": "markdown",
      "metadata": {
        "id": "tM-G5cPlAgY6"
      },
      "source": [
        "__ValueError__: Unknown data source type: <class 'list'> with FileType: None.\n",
        "FIX THIS by passing a supported data type. Supported data types include pandas.DataFrame, pandas.Series, np.ndarray, and CSV/Parquet file paths. If you specify a file, path, consider passing the `filetype` argument to specify the type of the source. Use the `RayFileType` enum for that. If using Modin, Dask, or Petastorm, make sure the library is installed.\n",
        "__error_\n",
        "\n",
        "```\n",
        "train_set = RayDMatrix(train_list, label='label', enable_categorical=True) # error: enable_categorical=True\n",
        "test_set = RayDMatrix(test_list, label='trueLabel', enable_categorical=True)\n",
        "```"
      ]
    },
    {
      "cell_type": "code",
      "execution_count": null,
      "metadata": {
        "id": "LeN5K2riAgY6",
        "outputId": "ddbf87f3-65f6-4d9d-a571-8bdc84baa515"
      },
      "outputs": [
        {
          "data": {
            "text/plain": [
              "'\\ntrain_set = RayDMatrix(train_x, train_y, enable_categorical=True)\\ntest_set = RayDMatrix(test_x, test_y, enable_categorical=True)'"
            ]
          },
          "execution_count": 80,
          "metadata": {},
          "output_type": "execute_result"
        }
      ],
      "source": [
        "# Then convert them into DMatrix used by xgboost\n",
        "#  error: When\n",
        "'''\n",
        "(_RemoteRayXGBoostActor pid=10175) categorical type is supplied, DMatrix parameter `enable_categorical` must\n",
        "(_RemoteRayXGBoostActor pid=10175) be set to `True`. Invalid columns:Host Response Time, Property Type, Room Type, Cancellation Policy\n",
        "'''\n",
        "'''\n",
        "dtrain = RayDMatrix(train_dataset, label='label', enable_categorical=True) # error: enable_categorical=True\n",
        "dtest = RayDMatrix(test_dataset, label='trueLabel', enable_categorical=True)\n",
        "'''\n",
        "# to follow the classifier example [1]\n",
        "train_set = RayDMatrix(train_df_pandas, label='label', enable_categorical=True) # error: enable_categorical=True\n",
        "test_set = RayDMatrix(test_df_pandas, label='trueLabel', enable_categorical=True)\n",
        "\n",
        "'''\n",
        "train_set = RayDMatrix(train_x, train_y, enable_categorical=True)\n",
        "test_set = RayDMatrix(test_x, test_y, enable_categorical=True)'''"
      ]
    },
    {
      "cell_type": "code",
      "execution_count": null,
      "metadata": {
        "id": "o4mGtLC1AgY7",
        "outputId": "5b1e8e7c-b501-4bb8-c851-1bfc126b4b4f"
      },
      "outputs": [
        {
          "name": "stdout",
          "output_type": "stream",
          "text": [
            "data engineering time:  takes 27.490825176239014 seconds\n"
          ]
        }
      ],
      "source": [
        "end=time()\n",
        "print('{} takes {} seconds'.format(phrase, (end - start))) #round(end - start, 2)))"
      ]
    },
    {
      "cell_type": "markdown",
      "metadata": {
        "id": "Z-P-GIQjAgY7"
      },
      "source": [
        "#### ValueError: DataFrame.dtypes for data must be int, float, bool or category.  \n",
        "When\n",
        "(RemoteRayXGBoostActor pid=1198) categorical type is supplied, DMatrix parameter `enable_categorical` must\n",
        "(RemoteRayXGBoostActor pid=1198) be set to `True`. Invalid columns:__Host Response Time, Property Type, Room Type, Cancellation Policy__\n"
      ]
    },
    {
      "cell_type": "code",
      "execution_count": null,
      "metadata": {
        "id": "co7RtOCOAgY7",
        "outputId": "e6d419aa-7f0c-4169-e89d-a1b6374ec4a1"
      },
      "outputs": [
        {
          "data": {
            "text/plain": [
              "'\\nbst = train(\\n    {\\n        \"objective\": \"binary:logistic\",\\n        \"eval_metric\": [\"logloss\", \"error\"], #, \"rmse\", \"r2\"],\\n    },\\n    train_set,\\n    evals_result=evals_result,\\n    evals=[(train_set, \"train\"), (test_set, \"test\")],\\n    verbose_eval=False,\\n    ray_params=RayParams(\\n        num_actors=2,  # Number of remote actors\\n        cpus_per_actor=1))\\n'"
            ]
          },
          "execution_count": 82,
          "metadata": {},
          "output_type": "execute_result"
        }
      ],
      "source": [
        "evals_result = {}\n",
        "\n",
        "'''\n",
        "bst = train(\n",
        "    {\n",
        "        \"objective\": \"binary:logistic\",\n",
        "        \"eval_metric\": [\"logloss\", \"error\"], #, \"rmse\", \"r2\"],\n",
        "    },\n",
        "    train_set,\n",
        "    evals_result=evals_result,\n",
        "    evals=[(train_set, \"train\"), (test_set, \"test\")],\n",
        "    verbose_eval=False,\n",
        "    ray_params=RayParams(\n",
        "        num_actors=2,  # Number of remote actors\n",
        "        cpus_per_actor=1))\n",
        "'''"
      ]
    },
    {
      "cell_type": "code",
      "execution_count": null,
      "metadata": {
        "id": "yjSw663eAgY7",
        "outputId": "989112fa-c6fc-420f-a757-0dbe137f7ff3"
      },
      "outputs": [
        {
          "name": "stderr",
          "output_type": "stream",
          "text": [
            "2022-04-08 00:10:09,169\tINFO main.py:985 -- [RayXGBoost] Created 3 new actors (3 total actors). Waiting until actors are ready for training.\n",
            "2022-04-08 00:10:10,635\tINFO main.py:1030 -- [RayXGBoost] Starting XGBoost training.\n",
            "\u001b[2m\u001b[36m(_RemoteRayXGBoostActor pid=14872)\u001b[0m [00:10:10] task [xgboost.ray]:140415120672016 got new rank 0\n",
            "\u001b[2m\u001b[36m(_RemoteRayXGBoostActor pid=14968)\u001b[0m [00:10:10] task [xgboost.ray]:139852450847952 got new rank 1\n",
            "\u001b[2m\u001b[36m(_RemoteRayXGBoostActor pid=14969)\u001b[0m [00:10:10] task [xgboost.ray]:140653212425872 got new rank 2\n",
            "2022-04-08 00:10:12,323\tINFO main.py:1512 -- [RayXGBoost] Finished XGBoost training on training data with total N=33,330 in 3.84 seconds (1.68 pure XGBoost training time).\n"
          ]
        },
        {
          "name": "stdout",
          "output_type": "stream",
          "text": [
            "training time:  takes 4.33713960647583 seconds\n"
          ]
        }
      ],
      "source": [
        "bst = with_benchmark('training time: ', lambda: train(\n",
        "    {\n",
        "        #\"tree_method\": \"gpu_hist\",\n",
        "        # default for regression: reg:squarederror\n",
        "        \"objective\": \"reg:squarederror\",\n",
        "        \"eval_metric\": [\"rmse\", \"rmsle\"], #, \"logloss\", \"error\", \"rmse\", \"rmsle\",   # \"r2\": NA\n",
        "    },\n",
        "    train_set,\n",
        "    evals_result=evals_result,\n",
        "    evals=[(train_set, \"train\"), (test_set, \"test\")],\n",
        "    verbose_eval=False,\n",
        "    ray_params=RayParams(\n",
        "        num_actors=3,  # Number of remote actors: 3, 5 : min_workers\n",
        "        cpus_per_actor=1)) #gpus_per_actor=1)) # cpus_per_actor=1, ))\n",
        "    )\n"
      ]
    },
    {
      "cell_type": "code",
      "execution_count": null,
      "metadata": {
        "id": "2LRZ8_-PAgY8",
        "outputId": "fa498c6a-9d6f-4dc4-b733-8d06f27711a7"
      },
      "outputs": [
        {
          "name": "stdout",
          "output_type": "stream",
          "text": [
            "Final training rmse: 30.0343\n"
          ]
        }
      ],
      "source": [
        "# bst.save_model(\"air_model.xgb\")\n",
        "print(\"Final training rmse: {:.4f}\".format(\n",
        "    evals_result[\"train\"][\"rmse\"][-1]))"
      ]
    },
    {
      "cell_type": "code",
      "execution_count": null,
      "metadata": {
        "id": "BFek89IIAgY8",
        "outputId": "6a12d9e4-84b5-428e-f180-2027219c78d5"
      },
      "outputs": [
        {
          "name": "stdout",
          "output_type": "stream",
          "text": [
            "Final testing rmse: 31.1193\n"
          ]
        }
      ],
      "source": [
        "# bst.save_model(\"air_model.xgb\")\n",
        "print(\"Final testing rmse: {:.4f}\".format(\n",
        "    evals_result[\"test\"][\"rmse\"][-1]))"
      ]
    },
    {
      "cell_type": "code",
      "execution_count": null,
      "metadata": {
        "id": "_9QumAUJAgY8",
        "outputId": "8c87b9af-95c0-42ff-deb4-30d5a3be1d65"
      },
      "outputs": [
        {
          "name": "stdout",
          "output_type": "stream",
          "text": [
            "Final training rmsle: 0.2343\n"
          ]
        }
      ],
      "source": [
        "print(\"Final training rmsle: {:.4f}\".format(\n",
        "    evals_result[\"train\"][\"rmsle\"][-1]))"
      ]
    },
    {
      "cell_type": "code",
      "execution_count": null,
      "metadata": {
        "id": "alYPMaSFAgY8",
        "outputId": "ab91e7c4-a40b-477e-90c4-0dfecb4029f1"
      },
      "outputs": [
        {
          "name": "stdout",
          "output_type": "stream",
          "text": [
            "Final testing rmsle: 0.2408\n"
          ]
        }
      ],
      "source": [
        "print(\"Final testing rmsle: {:.4f}\".format(\n",
        "    evals_result[\"test\"][\"rmsle\"][-1]))"
      ]
    },
    {
      "cell_type": "code",
      "execution_count": null,
      "metadata": {
        "id": "ByOjO1U5AgY9",
        "outputId": "3be47433-427d-4ada-e830-513a764e8744"
      },
      "outputs": [
        {
          "name": "stderr",
          "output_type": "stream",
          "text": [
            "2022-04-08 00:10:12,843\tINFO main.py:1549 -- [RayXGBoost] Created 2 remote actors.\n",
            "2022-04-08 00:10:14,229\tINFO main.py:1566 -- [RayXGBoost] Starting XGBoost prediction.\n"
          ]
        },
        {
          "name": "stdout",
          "output_type": "stream",
          "text": [
            "[ 60.19665   43.606106  38.75093  ... 191.93571  139.84459   68.27347 ]\n"
          ]
        }
      ],
      "source": [
        "from xgboost_ray import predict\n",
        "\n",
        "# bst = xgb.Booster(model_file=\"air_model.xgb\")\n",
        "pred_ray = predict(bst, test_set, ray_params=RayParams(num_actors=2,  # Number of remote actors\n",
        "        cpus_per_actor=1))\n",
        "\n",
        "print(pred_ray)"
      ]
    },
    {
      "cell_type": "code",
      "execution_count": null,
      "metadata": {
        "id": "aujqM715AgY9",
        "outputId": "1f7aa4a2-3bac-4465-b32c-9d75499b2852"
      },
      "outputs": [
        {
          "name": "stdout",
          "output_type": "stream",
          "text": [
            "0         55\n",
            "1         45\n",
            "2         40\n",
            "3         39\n",
            "4         30\n",
            "        ... \n",
            "14385    275\n",
            "14386    175\n",
            "14387    167\n",
            "14388    145\n",
            "14389     81\n",
            "Name: trueLabel, Length: 14390, dtype: int32\n"
          ]
        }
      ],
      "source": [
        "print(test_df_pandas[\"trueLabel\"]) # RayMatrix: test_set"
      ]
    },
    {
      "cell_type": "code",
      "execution_count": null,
      "metadata": {
        "id": "kMjiYyr0AgY9"
      },
      "outputs": [],
      "source": [
        "raydp.stop_spark()\n",
        "ray.shutdown()"
      ]
    },
    {
      "cell_type": "markdown",
      "metadata": {
        "id": "qJ-YSVMfAgY9"
      },
      "source": [
        "### Experimental Result:      \n",
        "#### min_workers: 2, max_workers: 3\n",
        "\n",
        "1. Experiment 1 (header: g4dn.2xlarge): num_executors = 1, cores_per_executor = 1\n",
        "\n",
        "|File Size| Loc | workers | no actors |Partition| no_executors| cores/exe| mem/exe| max workers| Train (s)| Read| Data Eng| Train rmse | Test rmse | Train rmsle | Test rmsle |\n",
        "| :---    | :----:  | :----: | :----:   | :----:   | :----:   | :----:   | :----:   | :----:   | :----:   | :----:| :----:| :----:   | :----:   | :----:   | ---: |\n",
        "|1.930GB | local |2- 8  | 3 |   NA | 1| 1| \"2GB\"| | 4.34 (hist)|17.04 | 27.49  | 30.03 | 31.12 |0.2343 |0.2408 |\n",
        "\n"
      ]
    },
    {
      "cell_type": "markdown",
      "metadata": {
        "id": "32xaWo6LAgY9"
      },
      "source": [
        "### References\n",
        "1. Ray Breast Cancer Example, https://github.com/ray-project/xgboost_ray \n",
        "1. Data Read API, https://docs.ray.io/en/releases-1.9.1/_modules/ray/data/read_api.html\n",
        "1. actors, https://docs.ray.io/en/latest/ray-core/actors.html\n",
        "1. https://docs.ray.io/en/ray-1.1.0/xgboost-ray.html\n",
        "1. https://sparkbyexamples.com/pyspark/convert-pyspark-dataframe-to-pandas/\n",
        "1. https://sparkbyexamples.com/pandas/pandas-select-columns-by-name-or-index/\n",
        "1. https://github.com/ray-project/xgboost_ray#distributed-data-loading\n",
        "1. https://www.anyscale.com/blog/building-an-end-to-end-ml-pipeline-using-mars-and-xgboost-on-ray\n",
        "1. Evaluation Example in Dask, https://docs.ray.io/en/latest/ray-core/examples/dask_xgboost/dask_xgboost.html\n",
        "1. Read a CSV or other delimited file with Arrow, https://arrow.apache.org/docs/r/reference/read_delim_arrow.html\n",
        "1.  Data Science with Python and Dask, Manning Book, https://livebook.manning.com/book/data-science-at-scale-with-python-and-dask/chapter-4/21\n",
        "1. XGBoost Parameters, https://xgboost.readthedocs.io/en/stable/parameter.html#parameters-for-tweedie-regression-objective-reg-tweedie\n",
        "1. https://www.analyticsvidhya.com/blog/2021/05/know-the-best-evaluation-metrics-for-your-regression-model/"
      ]
    },
    {
      "cell_type": "code",
      "execution_count": null,
      "metadata": {
        "id": "8LdBpA-pAgY-"
      },
      "outputs": [],
      "source": [
        ""
      ]
    }
  ],
  "metadata": {
    "kernelspec": {
      "display_name": "Python 3",
      "language": "python",
      "name": "python3"
    },
    "language_info": {
      "codemirror_mode": {
        "name": "ipython",
        "version": 3
      },
      "file_extension": ".py",
      "mimetype": "text/x-python",
      "name": "python",
      "nbconvert_exporter": "python",
      "pygments_lexer": "ipython3",
      "version": "3.7.7"
    },
    "colab": {
      "name": "airbnbPrice_xgboost_ray_v2.ipynb",
      "provenance": [],
      "include_colab_link": true
    }
  },
  "nbformat": 4,
  "nbformat_minor": 0
}